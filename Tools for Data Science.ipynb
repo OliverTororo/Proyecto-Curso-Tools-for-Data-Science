{
  "metadata": {
    "kernelspec": {
      "name": "python",
      "display_name": "Python (Pyodide)",
      "language": "python"
    },
    "language_info": {
      "codemirror_mode": {
        "name": "python",
        "version": 3
      },
      "file_extension": ".py",
      "mimetype": "text/x-python",
      "name": "python",
      "nbconvert_exporter": "python",
      "pygments_lexer": "ipython3",
      "version": "3.8"
    },
    "prev_pub_hash": "e42e40e9ca210f9879e85cf62c4c0652dde5da4c891edf9096e3793226e092e5"
  },
  "nbformat_minor": 4,
  "nbformat": 4,
  "cells": [
    {
      "cell_type": "markdown",
      "source": "# Tools for Data Science",
      "metadata": {}
    },
    {
      "cell_type": "markdown",
      "source": "## Introducción\nEn este proyecto final, aplicaré los conocimientos adquiridos a lo largo del curso sobre ciencia de datos utilizando Jupyterlite Notebook. El objetivo es explorar y demostrar el uso de diferentes herramientas, lenguajes y bibliotecas de ciencia de datos. Además, realizaré operaciones aritméticas simples y presentaré los conceptos clave en formato de celdas Markdown y código. Finalmente, compartiré mi cuaderno de trabajo a través de GitHub para su evaluación y retroalimentación.",
      "metadata": {}
    },
    {
      "cell_type": "markdown",
      "source": "## Lenguajes de Ciencia de Datos\n- Python\n- R\n- SQL\n\n",
      "metadata": {
        "jp-MarkdownHeadingCollapsed": true
      }
    },
    {
      "cell_type": "markdown",
      "source": "## Bibliotecas de Ciencia de Datos\n- Pandas\n- NumPy\n- Matplotlib\n- Scikit-learn",
      "metadata": {
        "jp-MarkdownHeadingCollapsed": true
      }
    },
    {
      "cell_type": "markdown",
      "source": "## Herramientas de Ciencia de Datos\n| Herramienta   | Descripción                  |\n|---------------|------------------------------|\n| Jupyter       | Entorno de desarrollo        |\n| RStudio       | IDE para R                   |\n| Google Colab  | Jupyter en la nube           |\n",
      "metadata": {
        "jp-MarkdownHeadingCollapsed": true
      }
    },
    {
      "cell_type": "markdown",
      "source": "## Ejemplos de Expresiones Aritméticas\n",
      "metadata": {}
    },
    {
      "cell_type": "code",
      "source": "# Ejemplo de operaciones aritméticas\na = 5\nb = 7\nsuma = a + b\nprint(\"La suma es:\", suma)\n\n# Mostrar el resultado\nmultiplicacion = a * b\nprint(\"La multiplicación es:\", multiplicacion)",
      "metadata": {
        "trusted": true
      },
      "outputs": [
        {
          "name": "stdout",
          "text": "La suma es: 12\nLa multiplicación es: 35\n",
          "output_type": "stream"
        }
      ],
      "execution_count": 9
    },
    {
      "cell_type": "code",
      "source": "# Convertir minutos a horas\nminutos = 150\nhoras = minutos / 60\n\n# Mostrar el resultado\nprint(f\"{minutos} minutos son equivalentes a {horas} horas\")",
      "metadata": {
        "trusted": true
      },
      "outputs": [
        {
          "name": "stdout",
          "text": "150 minutos son equivalentes a 2.5 horas\n",
          "output_type": "stream"
        }
      ],
      "execution_count": 11
    },
    {
      "cell_type": "code",
      "source": "# Lista de objetivos\nobjetivos = [\n    \"Aprender los conceptos básicos de ciencia de datos\",\n    \"Familiarizarse con bibliotecas como Pandas y Numpy\",\n    \"Aplicar herramientas de visualización de datos\",\n    \"Compartir el cuaderno Jupyterlite en GitHub\"\n]\n\n# Mostrar los objetivos\nfor objetivo in objetivos:\n    print(f\"- {objetivo}\")",
      "metadata": {
        "trusted": true
      },
      "outputs": [
        {
          "name": "stdout",
          "text": "- Aprender los conceptos básicos de ciencia de datos\n- Familiarizarse con bibliotecas como Pandas y Numpy\n- Aplicar herramientas de visualización de datos\n- Compartir el cuaderno Jupyterlite en GitHub\n",
          "output_type": "stream"
        }
      ],
      "execution_count": 4
    },
    {
      "cell_type": "markdown",
      "source": "## Autor\nOliver Flores Loayza",
      "metadata": {}
    }
  ]
}